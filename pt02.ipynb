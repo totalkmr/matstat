{
  "nbformat": 4,
  "nbformat_minor": 0,
  "metadata": {
    "colab": {
      "name": "pt02.ipynb",
      "provenance": [],
      "collapsed_sections": []
    },
    "kernelspec": {
      "name": "python3",
      "display_name": "Python 3"
    }
  },
  "cells": [
    {
      "cell_type": "markdown",
      "metadata": {
        "id": "fPYeN8mpiK_y"
      },
      "source": [
        "## Урок 2\r\n",
        "### Дискретные случайные величины. Закон распределения вероятностей. Биномиальный закон распределения. Распределение Пуассона"
      ]
    },
    {
      "cell_type": "markdown",
      "metadata": {
        "id": "5s4oiXcjibzf"
      },
      "source": [
        "***1. Вероятность того, что стрелок попадет в мишень, выстрелив один раз, равна 0.8. Стрелок выстрелил 100 раз. Найдите вероятность того, что стрелок попадет в цель ровно 85 раз.***"
      ]
    },
    {
      "cell_type": "markdown",
      "metadata": {
        "id": "fTSxwA-kip0D"
      },
      "source": [
        "$$P_n(X=k) = C_n^k p^k q^{n-k}$$"
      ]
    },
    {
      "cell_type": "markdown",
      "metadata": {
        "id": "3kQLE8bGi3QA"
      },
      "source": [
        "***k*** = 85\r\n",
        "\r\n",
        "***n*** = 100\r\n",
        "\r\n",
        "***p*** = 0,8\r\n",
        "\r\n",
        "***q*** = 1 - p = 0,2"
      ]
    },
    {
      "cell_type": "markdown",
      "metadata": {
        "id": "ZDSWI6fkjROx"
      },
      "source": [
        "$$P_{100}(X=85) = C_{100}^{85} * 0,8^{85} * 0,2^{100-85} = 0,048$$"
      ]
    },
    {
      "cell_type": "markdown",
      "metadata": {
        "id": "a8T7NjvzkAMb"
      },
      "source": [
        "***2. Вероятность того, что лампочка перегорит в течение первого дня эксплуатации, равна 0.0004. В жилом комплексе после ремонта в один день включили 5000 новых лампочек. Какова вероятность, что ни одна из них не перегорит в первый день? Какова вероятность, что перегорят ровно две?***"
      ]
    },
    {
      "cell_type": "markdown",
      "metadata": {
        "id": "Z153O9Ptzdp-"
      },
      "source": [
        "$$P_m \\approx \\frac{\\lambda^m}{m!}e^{-\\lambda},$$"
      ]
    },
    {
      "cell_type": "markdown",
      "metadata": {
        "id": "ctojqALxk510"
      },
      "source": [
        "где $λ = np$"
      ]
    },
    {
      "cell_type": "markdown",
      "metadata": {
        "id": "Qno6yGPJlNnu"
      },
      "source": [
        "***n*** = 5000\r\n",
        "\r\n",
        "***p*** = 0,0004"
      ]
    },
    {
      "cell_type": "markdown",
      "metadata": {
        "id": "9V4Tle9Ilxhs"
      },
      "source": [
        "***а) Какова вероятность, что ни одна из ламп не перегорит в первый день? (m = 0)***"
      ]
    },
    {
      "cell_type": "markdown",
      "metadata": {
        "id": "fGFN5b_gzdqM"
      },
      "source": [
        "Применим формулу Пуассона, зная, что $m = 0$ и $λ = np = 5000 \\cdot 0.0004 = 2$:"
      ]
    },
    {
      "cell_type": "markdown",
      "metadata": {
        "id": "uoxO_pAezdqN"
      },
      "source": [
        "$$P_{0} \\approx \\frac{\\lambda^m}{m!}e^{-\\lambda} \\approx \\frac{2^{0}}{0!}e^{-2} \\approx  0.135$$"
      ]
    },
    {
      "cell_type": "markdown",
      "metadata": {
        "id": "wIkTGzbaZwGx"
      },
      "source": [
        "***б) Какова вероятность, что перегорят ровно две лампочки? (m = 2)***"
      ]
    },
    {
      "cell_type": "markdown",
      "metadata": {
        "id": "ByeWWHLrZwGz"
      },
      "source": [
        "Применим формулу Пуассона, зная, что $m = 2$ и $λ = np = 5000 \\cdot 0.0004 = 2$:"
      ]
    },
    {
      "cell_type": "markdown",
      "metadata": {
        "id": "X0CWmIBGZwG0"
      },
      "source": [
        "$$P_{2} \\approx \\frac{\\lambda^m}{m!}e^{-\\lambda} \\approx \\frac{2^{2}}{2!}e^{-2} \\approx  0.27$$"
      ]
    },
    {
      "cell_type": "markdown",
      "metadata": {
        "id": "y-7KaTUibU2q"
      },
      "source": [
        "***3. Монету подбросили 144 раза. Какова вероятность, что орел выпадет ровно 70 раз?***"
      ]
    },
    {
      "cell_type": "markdown",
      "metadata": {
        "id": "bFxqhJ9Qb1Nv"
      },
      "source": [
        "$$P_n(X=k) = C_n^k p^k q^{n-k}$$"
      ]
    },
    {
      "cell_type": "markdown",
      "metadata": {
        "id": "ETnfI0Bzb1Nv"
      },
      "source": [
        "***k*** = 70\r\n",
        "\r\n",
        "***n*** = 144\r\n",
        "\r\n",
        "***p*** = 0,5\r\n",
        "\r\n",
        "***q*** = 1 - p = 0,5"
      ]
    },
    {
      "cell_type": "markdown",
      "metadata": {
        "id": "WuNAphKwb1Nw"
      },
      "source": [
        "$$P_{144}(X=70) = C_{144}^{70}\\cdot 0,5^{70}\\cdot 0,5^{144-70} = 0,063$$"
      ]
    },
    {
      "cell_type": "markdown",
      "metadata": {
        "id": "E5Dpu9Q7c34h"
      },
      "source": [
        "***4. В первом ящике находится 10 мячей, из которых 7 - белые. Во втором ящике - 11 мячей, из которых 9 белых. Из каждого ящика вытаскивают случайным образом по два мяча. Какова вероятность того, что все мячи белые? Какова вероятность того, что ровно два мяча белые? Какова вероятность того, что хотя бы один мяч белый?***"
      ]
    },
    {
      "cell_type": "markdown",
      "metadata": {
        "id": "sseh-lgVdGOZ"
      },
      "source": [
        "***а) Какова вероятность, что все мячи белые?***"
      ]
    },
    {
      "cell_type": "markdown",
      "metadata": {
        "id": "OtEDvLULd5UQ"
      },
      "source": [
        "***А*** - вытащить два белых мяча из ящика"
      ]
    },
    {
      "cell_type": "markdown",
      "metadata": {
        "id": "5ZkY9ppJhy9P"
      },
      "source": [
        "Вероятность наступления события:"
      ]
    },
    {
      "cell_type": "markdown",
      "metadata": {
        "id": "53BmFml6WvmX"
      },
      "source": [
        "$$P(A) = \\frac{m}{n}$$"
      ]
    },
    {
      "cell_type": "markdown",
      "metadata": {
        "id": "9hBGu-KPeSqE"
      },
      "source": [
        "Для первого ящика:"
      ]
    },
    {
      "cell_type": "markdown",
      "metadata": {
        "id": "ROBwJEpXW5bh"
      },
      "source": [
        "$$P_1(A) = \\frac{C_{7}^2}{C_{10}^2}$$"
      ]
    },
    {
      "cell_type": "markdown",
      "metadata": {
        "id": "f4q70tm1gjqW"
      },
      "source": [
        "Для второго ящика:"
      ]
    },
    {
      "cell_type": "markdown",
      "metadata": {
        "id": "zEP-AMUQgjqY"
      },
      "source": [
        "$$P_2(A) = \\frac{C_{9}^2}{C_{11}^2}$$"
      ]
    },
    {
      "cell_type": "markdown",
      "metadata": {
        "id": "Pf1iQ_abgx5i"
      },
      "source": [
        "Вероятность вытащить все белые мячи (оба белых из первого ящика и оба белых из второго):"
      ]
    },
    {
      "cell_type": "markdown",
      "metadata": {
        "id": "ZW-grUxuhABw"
      },
      "source": [
        "$$P(A) = P_1(A)\\cdot P_2(A) = \\frac{C_{7}^2}{C_{10}^2}\\cdot \\frac{C_{9}^2}{C_{11}^2} = 0,305$$"
      ]
    },
    {
      "cell_type": "markdown",
      "metadata": {
        "id": "2GM7Yz7xIgzF"
      },
      "source": [
        "Функция для вычисления количества сочетаний:"
      ]
    },
    {
      "cell_type": "code",
      "metadata": {
        "id": "iFH05AQwKlNl"
      },
      "source": [
        "from math import factorial"
      ],
      "execution_count": 7,
      "outputs": []
    },
    {
      "cell_type": "code",
      "metadata": {
        "id": "XqmC5AY8I_Ie"
      },
      "source": [
        "def combinations(n, k):\n",
        "    return int(factorial(n) / (factorial(k) * factorial(n - k)))"
      ],
      "execution_count": null,
      "outputs": []
    },
    {
      "cell_type": "code",
      "metadata": {
        "colab": {
          "base_uri": "https://localhost:8080/"
        },
        "id": "DOHVQ5UTXY2w",
        "outputId": "71a0abdb-36a9-4219-9dc8-38a3fb1d5c27"
      },
      "source": [
        "p = (combinations(7, 2) / combinations(10, 2)) * (combinations(9, 2) / combinations(11, 2))\r\n",
        "p"
      ],
      "execution_count": 6,
      "outputs": [
        {
          "output_type": "execute_result",
          "data": {
            "text/plain": [
              "0.3054545454545455"
            ]
          },
          "metadata": {
            "tags": []
          },
          "execution_count": 6
        }
      ]
    },
    {
      "cell_type": "markdown",
      "metadata": {
        "id": "ZXAQ5B4PlRuK"
      },
      "source": [
        "***б) Какова вероятность, что ровно 2 мяча белые?***"
      ]
    },
    {
      "cell_type": "markdown",
      "metadata": {
        "id": "KQuZppIkrmth"
      },
      "source": [
        "Ситуация, когда ровно два мяча окажутся белыми может возникунуть в одном из трех случаев: \r\n",
        "* два белых мяча из первого ящика и два черных из второго ($P_1$);\r\n",
        "* или два белых мяча из второго ящика и два черных мяча из первого ($P_2$);\r\n",
        "* или один белый и один черный мяч из первого ящика и один белый и один черный мяч из второго ящика ($P_3$).\r\n",
        "\r\n",
        "\r\n"
      ]
    },
    {
      "cell_type": "markdown",
      "metadata": {
        "id": "aBMvoNOUuwYF"
      },
      "source": [
        "Вероятность того, что ровно два мяча белые ($P$):"
      ]
    },
    {
      "cell_type": "markdown",
      "metadata": {
        "id": "_O0p3EqQu6O-"
      },
      "source": [
        "$$P = P_1 + P_2 + P_3$$"
      ]
    },
    {
      "cell_type": "markdown",
      "metadata": {
        "id": "O7zyzgH1vHAc"
      },
      "source": [
        "Два белых мяча из первого ящика и два черных из второго ($P_1$):"
      ]
    },
    {
      "cell_type": "markdown",
      "metadata": {
        "id": "PD_OKqVXvPqM"
      },
      "source": [
        "$$P_1 = \\frac{C_{7}^2}{C_{10}^2}\\cdot \\frac{C_{2}^2}{C_{11}^2}$$"
      ]
    },
    {
      "cell_type": "markdown",
      "metadata": {
        "id": "yGkGNeGZv9kh"
      },
      "source": [
        "Два белых мяча из второго ящика и два черных мяча из первого ($P_2$):"
      ]
    },
    {
      "cell_type": "markdown",
      "metadata": {
        "id": "Kdy4GenrwAb_"
      },
      "source": [
        "$$P_2 = \\frac{C_{3}^2}{C_{10}^2}\\cdot \\frac{C_{9}^2}{C_{11}^2}$$"
      ]
    },
    {
      "cell_type": "markdown",
      "metadata": {
        "id": "x6USfMEKyNwH"
      },
      "source": [
        "Один белый и один черный мяч из первого ящика и один белый и один черный мяч из второго ящика ($P_3$):"
      ]
    },
    {
      "cell_type": "markdown",
      "metadata": {
        "id": "GjhVV7B4yOVS"
      },
      "source": [
        "$$P_3 = \\frac{C_{7}^1\\cdot C_{3}^1}{C_{10}^2}\\cdot \\frac{C_{9}^1\\cdot C_{2}^1}{C_{11}^2}$$"
      ]
    },
    {
      "cell_type": "markdown",
      "metadata": {
        "id": "fWFP2IuJzW1V"
      },
      "source": [
        "Вероятность того, что ровно два мяча белые ($P$):"
      ]
    },
    {
      "cell_type": "markdown",
      "metadata": {
        "id": "-V43at1AzW1W"
      },
      "source": [
        "$$P = P_1 + P_2 + P_3 = \\frac{C_{7}^2}{C_{10}^2}\\cdot \\frac{C_{2}^2}{C_{11}^2} + \\frac{C_{3}^2}{C_{10}^2}\\cdot \\frac{C_{9}^2}{C_{11}^2} + \\frac{C_{7}^1\\cdot C_{3}^1}{C_{10}^2}\\cdot \\frac{C_{9}^1\\cdot C_{2}^1}{C_{11}^2} = 0,205$$"
      ]
    },
    {
      "cell_type": "code",
      "metadata": {
        "colab": {
          "base_uri": "https://localhost:8080/"
        },
        "id": "LyOHZ8xCzod-",
        "outputId": "46058472-b0c7-4e22-a73e-53a045e0867e"
      },
      "source": [
        "p = (combinations(7, 2) / combinations(10, 2)) * (combinations(2, 2) / combinations(11, 2)) + (combinations(3, 2) / combinations(10, 2)) * (combinations(9, 2) / combinations(11, 2)) + (combinations(7, 1) * combinations(3, 1) / combinations(10, 2)) * (combinations(9, 1) * combinations(2, 1) / combinations(11, 2))\r\n",
        "p"
      ],
      "execution_count": 8,
      "outputs": [
        {
          "output_type": "execute_result",
          "data": {
            "text/plain": [
              "0.20484848484848486"
            ]
          },
          "metadata": {
            "tags": []
          },
          "execution_count": 8
        }
      ]
    }
  ]
}