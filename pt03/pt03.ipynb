{
  "nbformat": 4,
  "nbformat_minor": 0,
  "metadata": {
    "colab": {
      "name": "pt03.ipynb",
      "provenance": [],
      "collapsed_sections": []
    },
    "kernelspec": {
      "name": "python3",
      "display_name": "Python 3"
    }
  },
  "cells": [
    {
      "cell_type": "markdown",
      "metadata": {
        "id": "fPYeN8mpiK_y"
      },
      "source": [
        "## Урок 3\r\n",
        "### Описательная статистика. Качественные и количественные характеристики популяции. Графическое представление данных"
      ]
    },
    {
      "cell_type": "markdown",
      "metadata": {
        "id": "5s4oiXcjibzf"
      },
      "source": [
        "***1. Даны значения зарплат из выборки выпускников: 100, 80, 75, 77, 89, 33, 45, 25, 65, 17, 30, 24, 57, 55, 70, 75, 65, 84, 90, 150. Посчитать (желательно без использования статистических методов наподобие std, var, mean) среднее арифметическое, среднее квадратичное отклонение, смещенную и несмещенную оценки дисперсий для данной выборки.***"
      ]
    },
    {
      "cell_type": "code",
      "metadata": {
        "id": "MPDgZjuQNKvB"
      },
      "source": [
        "import numpy as np"
      ],
      "execution_count": 48,
      "outputs": []
    },
    {
      "cell_type": "markdown",
      "metadata": {
        "id": "xxHZ6rokVGeI"
      },
      "source": [
        "Выборка:"
      ]
    },
    {
      "cell_type": "code",
      "metadata": {
        "id": "Oxkjtp_3Vyu2"
      },
      "source": [
        "wage = np.array([100, 80, 75, 77, 89, 33, 45, 25, 65, 17, 30, 24, 57, 55, 70, 75, 65, 84, 90, 150])"
      ],
      "execution_count": 49,
      "outputs": []
    },
    {
      "cell_type": "markdown",
      "metadata": {
        "id": "wr0eceSAWVoY"
      },
      "source": [
        "*Среднее арифметическое (оценка математического ожидания):*"
      ]
    },
    {
      "cell_type": "markdown",
      "metadata": {
        "id": "xvSB9hufNKvw"
      },
      "source": [
        "$$M(X) = \\frac{1}{n} \\sum\\limits_{i=1}^{n} x_i$$"
      ]
    },
    {
      "cell_type": "code",
      "metadata": {
        "colab": {
          "base_uri": "https://localhost:8080/"
        },
        "id": "L9DcMEw1Ws0n",
        "outputId": "bbac3355-7726-4d86-e3b7-2c0cb4d7bc06"
      },
      "source": [
        "wage_mean = wage.sum() / len(wage)\r\n",
        "wage_mean"
      ],
      "execution_count": 50,
      "outputs": [
        {
          "output_type": "execute_result",
          "data": {
            "text/plain": [
              "65.3"
            ]
          },
          "metadata": {
            "tags": []
          },
          "execution_count": 50
        }
      ]
    },
    {
      "cell_type": "code",
      "metadata": {
        "colab": {
          "base_uri": "https://localhost:8080/"
        },
        "id": "HSlTclfUcSh9",
        "outputId": "db82eac2-cffc-4723-a5fb-85e3f3831130"
      },
      "source": [
        "wage.mean()"
      ],
      "execution_count": 51,
      "outputs": [
        {
          "output_type": "execute_result",
          "data": {
            "text/plain": [
              "65.3"
            ]
          },
          "metadata": {
            "tags": []
          },
          "execution_count": 51
        }
      ]
    },
    {
      "cell_type": "markdown",
      "metadata": {
        "id": "3mQ3fskLYpsi"
      },
      "source": [
        "*Среднее квадратичное отклонение:*"
      ]
    },
    {
      "cell_type": "markdown",
      "metadata": {
        "id": "JwStBGB4NKwX"
      },
      "source": [
        "$$\\sigma = \\sqrt{\\frac{\\sum\\limits_{i=1}^{n} (x_i - \\overline{x})^2}{n}}$$"
      ]
    },
    {
      "cell_type": "code",
      "metadata": {
        "colab": {
          "base_uri": "https://localhost:8080/"
        },
        "id": "lJKdYIPYY6ZI",
        "outputId": "31d19699-1603-4f57-d7a8-5b299792b1c4"
      },
      "source": [
        "wage_std = np.sqrt(((wage - wage_mean) ** 2).sum() / len(wage))\r\n",
        "wage_std"
      ],
      "execution_count": 52,
      "outputs": [
        {
          "output_type": "execute_result",
          "data": {
            "text/plain": [
              "30.823854398825596"
            ]
          },
          "metadata": {
            "tags": []
          },
          "execution_count": 52
        }
      ]
    },
    {
      "cell_type": "code",
      "metadata": {
        "colab": {
          "base_uri": "https://localhost:8080/"
        },
        "id": "1fDfGfYLaVZh",
        "outputId": "54203221-91b5-4adb-f6d1-860ec772e69d"
      },
      "source": [
        "wage.std()"
      ],
      "execution_count": 53,
      "outputs": [
        {
          "output_type": "execute_result",
          "data": {
            "text/plain": [
              "30.823854398825596"
            ]
          },
          "metadata": {
            "tags": []
          },
          "execution_count": 53
        }
      ]
    },
    {
      "cell_type": "markdown",
      "metadata": {
        "id": "MLw6tZqHa-2s"
      },
      "source": [
        "*Смещенная оценка дисперсии:*"
      ]
    },
    {
      "cell_type": "markdown",
      "metadata": {
        "id": "ymzeeF4QNKw1"
      },
      "source": [
        "$$\\sigma^2 = \\frac{\\sum\\limits_{i=1}^{n} (x_i - \\overline{x})^2}{n}$$"
      ]
    },
    {
      "cell_type": "code",
      "metadata": {
        "colab": {
          "base_uri": "https://localhost:8080/"
        },
        "id": "ttKsf4zwbPuZ",
        "outputId": "868c6de7-0837-4387-bb87-e15d0d08d232"
      },
      "source": [
        "wage_var = ((wage - wage_mean) ** 2).sum() / len(wage)\r\n",
        "wage_var"
      ],
      "execution_count": 54,
      "outputs": [
        {
          "output_type": "execute_result",
          "data": {
            "text/plain": [
              "950.11"
            ]
          },
          "metadata": {
            "tags": []
          },
          "execution_count": 54
        }
      ]
    },
    {
      "cell_type": "code",
      "metadata": {
        "colab": {
          "base_uri": "https://localhost:8080/"
        },
        "id": "R0vwMgsecAaJ",
        "outputId": "1534ebfe-6aa6-4a8e-d113-6746bd2a1ff2"
      },
      "source": [
        "wage.var()"
      ],
      "execution_count": 55,
      "outputs": [
        {
          "output_type": "execute_result",
          "data": {
            "text/plain": [
              "950.11"
            ]
          },
          "metadata": {
            "tags": []
          },
          "execution_count": 55
        }
      ]
    },
    {
      "cell_type": "markdown",
      "metadata": {
        "id": "9OA5M0W_boH8"
      },
      "source": [
        "*Несмещенная оценка дисперсии:*"
      ]
    },
    {
      "cell_type": "markdown",
      "metadata": {
        "id": "yeHRCSngNKxH"
      },
      "source": [
        "$$\\sigma^2_{несмещ.} = \\frac{\\sum\\limits_{i=1}^{n} (x_i - \\overline{x})^2}{n - 1}$$"
      ]
    },
    {
      "cell_type": "code",
      "metadata": {
        "colab": {
          "base_uri": "https://localhost:8080/"
        },
        "id": "IGuKAXpvb0dH",
        "outputId": "5fc8d6bc-c781-431e-9c6d-c70f634b0e64"
      },
      "source": [
        "wage_var2 = ((wage - wage_mean) ** 2).sum() / (len(wage) - 1)\r\n",
        "wage_var2"
      ],
      "execution_count": 56,
      "outputs": [
        {
          "output_type": "execute_result",
          "data": {
            "text/plain": [
              "1000.1157894736842"
            ]
          },
          "metadata": {
            "tags": []
          },
          "execution_count": 56
        }
      ]
    },
    {
      "cell_type": "code",
      "metadata": {
        "colab": {
          "base_uri": "https://localhost:8080/"
        },
        "id": "Yq8YMAFnb6Gx",
        "outputId": "265adf18-52e5-412c-f8c0-49380283e836"
      },
      "source": [
        "wage.var(ddof=1)"
      ],
      "execution_count": 57,
      "outputs": [
        {
          "output_type": "execute_result",
          "data": {
            "text/plain": [
              "1000.1157894736842"
            ]
          },
          "metadata": {
            "tags": []
          },
          "execution_count": 57
        }
      ]
    },
    {
      "cell_type": "markdown",
      "metadata": {
        "id": "wGiYpbUGdAYf"
      },
      "source": [
        "\r\n",
        "\r\n",
        "---\r\n",
        "\r\n"
      ]
    },
    {
      "cell_type": "markdown",
      "metadata": {
        "id": "LZoX_67XczXi"
      },
      "source": [
        "***2. В первом ящике находится 8 мячей, из которых 5 - белые. Во втором ящике - 12 мячей, из которых 5 белых. Из первого ящика вытаскивают случайным образом два мяча, из второго - 4. Какова вероятность того, что 3 мяча белые?***"
      ]
    },
    {
      "cell_type": "markdown",
      "metadata": {
        "id": "KQuZppIkrmth"
      },
      "source": [
        "Ситуация, когда ровно три мяча окажутся белыми может возникунуть в одном из трех случаев: \r\n",
        "* два белых мяча из первого ящика, один белый и три черных мяча из второго ящика ($P_1$);\r\n",
        "* или один белый и один черный мяч из первого ящика, два белых и два черных мяча из второго ящика ($P_2$);\r\n",
        "* или два черных мяча из первого ящика, три белых и один черный мяч из второго ящика ($P_3$).\r\n",
        "\r\n",
        "\r\n"
      ]
    },
    {
      "cell_type": "markdown",
      "metadata": {
        "id": "aBMvoNOUuwYF"
      },
      "source": [
        "Вероятность того, что три мяча белые ($P$):"
      ]
    },
    {
      "cell_type": "markdown",
      "metadata": {
        "id": "_O0p3EqQu6O-"
      },
      "source": [
        "$$P = P_1 + P_2 + P_3$$"
      ]
    },
    {
      "cell_type": "markdown",
      "metadata": {
        "id": "O7zyzgH1vHAc"
      },
      "source": [
        "Два белых мяча из первого ящика, один белый и три черных мяча из второго ящика ($P_1$):"
      ]
    },
    {
      "cell_type": "markdown",
      "metadata": {
        "id": "PD_OKqVXvPqM"
      },
      "source": [
        "$$P_1 = \\frac{C_{5}^2}{C_{8}^2}\\cdot \\frac{C_{5}^1\\cdot C_{7}^3}{C_{12}^4}$$"
      ]
    },
    {
      "cell_type": "markdown",
      "metadata": {
        "id": "yGkGNeGZv9kh"
      },
      "source": [
        "Один белый и один черный мяч из первого ящика, два белых и два черных мяча из второго ящика ($P_2$):"
      ]
    },
    {
      "cell_type": "markdown",
      "metadata": {
        "id": "Kdy4GenrwAb_"
      },
      "source": [
        "$$P_2 = \\frac{C_{5}^1\\cdot C_{3}^1}{C_{8}^2}\\cdot \\frac{C_{5}^2\\cdot C_{7}^2}{C_{12}^4}$$"
      ]
    },
    {
      "cell_type": "markdown",
      "metadata": {
        "id": "x6USfMEKyNwH"
      },
      "source": [
        "Два черных мяча из первого ящика, три белых и один черный мяч из второго ящика ($P_3$):"
      ]
    },
    {
      "cell_type": "markdown",
      "metadata": {
        "id": "GjhVV7B4yOVS"
      },
      "source": [
        "$$P_3 = \\frac{C_{3}^2}{C_{8}^2}\\cdot \\frac{C_{5}^3\\cdot C_{7}^1}{C_{12}^4}$$"
      ]
    },
    {
      "cell_type": "markdown",
      "metadata": {
        "id": "fWFP2IuJzW1V"
      },
      "source": [
        "Вероятность того, что ровно два мяча белые ($P$):"
      ]
    },
    {
      "cell_type": "markdown",
      "metadata": {
        "id": "-V43at1AzW1W"
      },
      "source": [
        "$$P = P_1 + P_2 + P_3 = \\frac{C_{5}^2}{C_{8}^2}\\cdot \\frac{C_{5}^1\\cdot C_{7}^3}{C_{12}^4} + \\frac{C_{5}^1\\cdot C_{3}^1}{C_{8}^2}\\cdot \\frac{C_{5}^2\\cdot C_{7}^2}{C_{12}^4} + \\frac{C_{3}^2}{C_{8}^2}\\cdot \\frac{C_{5}^3\\cdot C_{7}^1}{C_{12}^4} = 0,369$$"
      ]
    },
    {
      "cell_type": "markdown",
      "metadata": {
        "id": "2GM7Yz7xIgzF"
      },
      "source": [
        "Функция для вычисления количества сочетаний:"
      ]
    },
    {
      "cell_type": "code",
      "metadata": {
        "id": "iFH05AQwKlNl"
      },
      "source": [
        "from math import factorial"
      ],
      "execution_count": 58,
      "outputs": []
    },
    {
      "cell_type": "code",
      "metadata": {
        "id": "XqmC5AY8I_Ie"
      },
      "source": [
        "def combinations(n, k):\n",
        "    return int(factorial(n) / (factorial(k) * factorial(n - k)))"
      ],
      "execution_count": 59,
      "outputs": []
    },
    {
      "cell_type": "code",
      "metadata": {
        "colab": {
          "base_uri": "https://localhost:8080/"
        },
        "id": "LyOHZ8xCzod-",
        "outputId": "16551665-87f6-4709-b659-c1cfca35e903"
      },
      "source": [
        "p = (combinations(5, 2) / combinations(8, 2)) * (combinations(5, 1) * combinations(7, 3) / combinations(12, 4)) + (combinations(5, 1) * combinations(3, 1) / combinations(8, 2)) * (combinations(5, 2) * combinations(7, 2) / combinations(12, 4)) + (combinations(3, 2) / combinations(8, 2)) * (combinations(5, 3) * combinations(7, 1) / combinations(12, 4))\r\n",
        "p"
      ],
      "execution_count": 60,
      "outputs": [
        {
          "output_type": "execute_result",
          "data": {
            "text/plain": [
              "0.3686868686868687"
            ]
          },
          "metadata": {
            "tags": []
          },
          "execution_count": 60
        }
      ]
    },
    {
      "cell_type": "markdown",
      "metadata": {
        "id": "NSbZaUpCkKG_"
      },
      "source": [
        "\r\n",
        "\r\n",
        "---\r\n",
        "\r\n"
      ]
    },
    {
      "cell_type": "markdown",
      "metadata": {
        "id": "iZE-jJt1kQlC"
      },
      "source": [
        "***3. На соревновании по биатлону один из трех спортсменов стреляет и попадает в мишень. Вероятность попадания для первого спортсмена равна 0.9, для второго — 0.8, для третьего — 0.6. Найти вероятность того, что выстрел произведен: a) первым спортсменом б) вторым спортсменом в) третьим спортсменом.***"
      ]
    },
    {
      "cell_type": "markdown",
      "metadata": {
        "id": "0RBFt25cOwMs"
      },
      "source": [
        "$A$ - попадание в мишень,\r\n",
        " \r\n",
        "$B_1, B_2$ и $B_3$ — выстрел совершил первый, второй или третий спортсмен."
      ]
    },
    {
      "cell_type": "markdown",
      "metadata": {
        "id": "RodGer1kkpG0"
      },
      "source": [
        "$$P(A\\:|\\:B_1) = 0,9$$\r\n",
        "\r\n",
        "$$P(A\\:|\\:B_2) = 0,8$$\r\n",
        "\r\n",
        "$$P(A\\:|\\:B_3) = 0,6$$\r\n",
        "\r\n",
        "$$P(B_1) = P(B_2) = P(B_3) = \\frac {1}{3}$$"
      ]
    },
    {
      "cell_type": "markdown",
      "metadata": {
        "id": "rStNEDvoQl58"
      },
      "source": [
        "Полную вероятность события $A$ найдем по формуле:"
      ]
    },
    {
      "cell_type": "markdown",
      "metadata": {
        "id": "jP1RPriDRSeV"
      },
      "source": [
        "$$P(A) = P(B_1) \\cdot P(A\\:|\\:B_1) + P(B_2) \\cdot P(A\\:|\\:B_2) + P(B_3) \\cdot P(A\\:|\\:B_3) = \\frac {1}{3} \\cdot 0,9 + \\frac {1}{3} \\cdot 0,8 + \\frac {1}{3} \\cdot 0,6 = 0,77$$"
      ]
    },
    {
      "cell_type": "markdown",
      "metadata": {
        "collapsed": true,
        "id": "_5YeOFVOsFKx"
      },
      "source": [
        "Чтобы определить вероятность события $B$ при условии, что событие $A$ уже произошло, применим формулу Байеса:"
      ]
    },
    {
      "cell_type": "markdown",
      "metadata": {
        "id": "3hN0vJKIsFKy"
      },
      "source": [
        "$$P(B\\:|\\:A) = \\frac{P(B) \\cdot P(A\\:|\\:B)}{P(A)}$$"
      ]
    },
    {
      "cell_type": "markdown",
      "metadata": {
        "id": "kZaW5wkJTVfK"
      },
      "source": [
        "Вероятность того, что выстрел произведен первым спортсменом:"
      ]
    },
    {
      "cell_type": "markdown",
      "metadata": {
        "id": "Q7NHOOzETrwE"
      },
      "source": [
        "$$P(B_1\\:|\\:A) = \\frac{P(B_1) \\cdot P(A\\:|\\:B_1)}{P(A)} = \\frac{\\frac{1}{3} \\cdot 0,9}{0,77} = 0,39$$"
      ]
    },
    {
      "cell_type": "markdown",
      "metadata": {
        "id": "NngxqrvJVbtI"
      },
      "source": [
        "Вероятность того, что выстрел произведен вторым спортсменом:"
      ]
    },
    {
      "cell_type": "markdown",
      "metadata": {
        "id": "wXbR-yAMVbtP"
      },
      "source": [
        "$$P(B_2\\:|\\:A) = \\frac{P(B_2) \\cdot P(A\\:|\\:B_2)}{P(A)} = \\frac{\\frac{1}{3} \\cdot 0,8}{0,77} = 0,35$$"
      ]
    },
    {
      "cell_type": "markdown",
      "metadata": {
        "id": "GzmNCVupVwAb"
      },
      "source": [
        "Вероятность того, что выстрел произведен третьим спортсменом:"
      ]
    },
    {
      "cell_type": "markdown",
      "metadata": {
        "id": "XPE7UospVwAd"
      },
      "source": [
        "$$P(B_3\\:|\\:A) = \\frac{P(B_3) \\cdot P(A\\:|\\:B_3)}{P(A)} = \\frac{\\frac{1}{3} \\cdot 0,6}{0,77} = 0,26$$"
      ]
    },
    {
      "cell_type": "markdown",
      "metadata": {
        "id": "dzPXQEKQWSIk"
      },
      "source": [
        "\r\n",
        "\r\n",
        "---\r\n",
        "\r\n"
      ]
    },
    {
      "cell_type": "markdown",
      "metadata": {
        "id": "zCSLZXEWMktt"
      },
      "source": [
        "***4. В университет на факультеты A и B поступило равное количество студентов, а на факультет C студентов поступило столько же, сколько на A и B вместе. Вероятность того, что студент факультета A сдаст первую сессию, равна 0.8. Для студента факультета B эта вероятность равна 0.7, а для студента факультета C - 0.9. Студент сдал первую сессию. Какова вероятность, что он учится: a). на факультете A б). на факультете B в). на факультете C?***"
      ]
    },
    {
      "cell_type": "markdown",
      "metadata": {
        "id": "RDuCntqMOYIp"
      },
      "source": [
        "$A$ - успешная сдача первой сессии,\r\n",
        "\r\n",
        "$B_A, B_B$ и $B_C$ — студент, сдавший первую сессию, учится на факультете $A$, $B$ и $C$ соответственно."
      ]
    },
    {
      "cell_type": "markdown",
      "metadata": {
        "id": "nn67w68kXdWq"
      },
      "source": [
        "$$P(A\\:|\\:B_A) = 0,8$$\r\n",
        "\r\n",
        "$$P(A\\:|\\:B_B) = 0,7$$\r\n",
        "\r\n",
        "$$P(A\\:|\\:B_C) = 0,9$$\r\n",
        "\r\n",
        "$$P(B_A) = P(B_B) = \\frac {1}{4}$$\r\n",
        "\r\n",
        "$$P(B_C) = P(B_A) + P(B_B) = 2 \\cdot \\frac {1}{4} = \\frac {1}{2}$$"
      ]
    },
    {
      "cell_type": "markdown",
      "metadata": {
        "id": "nXw02eJMXdWq"
      },
      "source": [
        "Полную вероятность события $A$ найдем по формуле:"
      ]
    },
    {
      "cell_type": "markdown",
      "metadata": {
        "id": "P5_M2oghXdWq"
      },
      "source": [
        "$$P(A) = P(B_A) \\cdot P(A\\:|\\:B_A) + P(B_B) \\cdot P(A\\:|\\:B_B) + P(B_C) \\cdot P(A\\:|\\:B_C) = \\frac {1}{4} \\cdot 0,8 + \\frac {1}{4} \\cdot 0,7 + \\frac {1}{2} \\cdot 0,9\r\n",
        " = 0,825$$"
      ]
    },
    {
      "cell_type": "markdown",
      "metadata": {
        "collapsed": true,
        "id": "RGfgZt9JXdWr"
      },
      "source": [
        "Чтобы определить вероятность события $B$ при условии, что событие $A$ уже произошло, применим формулу Байеса:"
      ]
    },
    {
      "cell_type": "markdown",
      "metadata": {
        "id": "A5rcBpDHXdWr"
      },
      "source": [
        "$$P(B\\:|\\:A) = \\frac{P(B) \\cdot P(A\\:|\\:B)}{P(A)}$$"
      ]
    },
    {
      "cell_type": "markdown",
      "metadata": {
        "id": "TCGvScrAXdWr"
      },
      "source": [
        "Вероятность того, что студент, сдавший первую сессию, учится на факультете $A$:"
      ]
    },
    {
      "cell_type": "markdown",
      "metadata": {
        "id": "rh5C4YVyXdWr"
      },
      "source": [
        "$$P(B_A\\:|\\:A) = \\frac{P(B_A) \\cdot P(A\\:|\\:B_A)}{P(A)} = \\frac{\\frac{1}{4} \\cdot 0,8}{0,825} = 0,24$$"
      ]
    },
    {
      "cell_type": "markdown",
      "metadata": {
        "id": "V3oLnYJ-XdWr"
      },
      "source": [
        "Вероятность того, что студент, сдавший первую сессию, учится на факультете $B$:"
      ]
    },
    {
      "cell_type": "markdown",
      "metadata": {
        "id": "v_8kaeIeXdWs"
      },
      "source": [
        "$$P(B_B\\:|\\:A) = \\frac{P(B_B) \\cdot P(A\\:|\\:B_B)}{P(A)} = \\frac{\\frac{1}{4} \\cdot 0,7}{0,825} = 0,21$$"
      ]
    },
    {
      "cell_type": "markdown",
      "metadata": {
        "id": "bZ8UkxTBXdWs"
      },
      "source": [
        "Вероятность того, что студент, сдавший первую сессию, учится на факультете $C$:"
      ]
    },
    {
      "cell_type": "markdown",
      "metadata": {
        "id": "vMJaCqC5XdWs"
      },
      "source": [
        "$$P(B_C\\:|\\:A) = \\frac{P(B_C) \\cdot P(A\\:|\\:B_C)}{P(A)} = \\frac{\\frac{1}{2} \\cdot 0,9}{0,825} = 0,55$$"
      ]
    },
    {
      "cell_type": "markdown",
      "metadata": {
        "id": "wgyj4Dz0Opkr"
      },
      "source": [
        "\r\n",
        "\r\n",
        "---\r\n",
        "\r\n"
      ]
    },
    {
      "cell_type": "markdown",
      "metadata": {
        "id": "ZQFOmBecMb-c"
      },
      "source": [
        "***5. Устройство состоит из трех деталей. Для первой детали вероятность выйти из строя в первый месяц равна 0.1, для второй - 0.2, для третьей - 0.25. Какова вероятность того, что в первый месяц выйдут из строя: а). все детали б). только две детали в). хотя бы одна деталь г). от одной до двух деталей?***"
      ]
    },
    {
      "cell_type": "markdown",
      "metadata": {
        "id": "j4cH_iwMk1lF"
      },
      "source": [
        "$p_1 = 0,1$\r\n",
        "\r\n",
        "$q_1 = 1 - p_1 = 1 - 0,1 = 0,9$\r\n",
        "\r\n",
        "$p_2 = 0,2$\r\n",
        "\r\n",
        "$q_2 = 1 - p_2 = 1 - 0,2 = 0,8$\r\n",
        "\r\n",
        "$p_3 = 0,25$\r\n",
        "\r\n",
        "$q_3 = 1 - p_3 = 1 - 0,25 = 0,75$"
      ]
    },
    {
      "cell_type": "markdown",
      "metadata": {
        "id": "ODYWEEZQluZ_"
      },
      "source": [
        "*а) Вероятность того, что в первый месяц выйдут из строя все детали:*"
      ]
    },
    {
      "cell_type": "markdown",
      "metadata": {
        "id": "tQGExJuPl_VO"
      },
      "source": [
        "$$P = p_1 \\cdot p_2 \\cdot p_3 = 0,1 \\cdot 0,2 \\cdot 0,25 = 0,005$$"
      ]
    },
    {
      "cell_type": "markdown",
      "metadata": {
        "id": "S1GnYytumcqr"
      },
      "source": [
        "*б) Вероятность того, что в первый месяц выйдут из строя только две детали:*"
      ]
    },
    {
      "cell_type": "markdown",
      "metadata": {
        "id": "UD_1lLAkmpLM"
      },
      "source": [
        "$$P = p_1 \\cdot p_2 \\cdot q_3 + p_1 \\cdot q_2 \\cdot p_3 + q_1 \\cdot p_2 \\cdot q_3 = 0,1 \\cdot 0,2 \\cdot 0,75 + 0,1 \\cdot 0,8 \\cdot 0,25 + 0,9 \\cdot 0,2 \\cdot 0,25 = 0,08$$"
      ]
    },
    {
      "cell_type": "markdown",
      "metadata": {
        "id": "dgfXVIDCnN3s"
      },
      "source": [
        "*в) Вероятность того, что в первый месяц выйдет из строя хотя бы одна деталь:*"
      ]
    },
    {
      "cell_type": "markdown",
      "metadata": {
        "id": "zjG4P_e8nj6v"
      },
      "source": [
        "$$P = 1 - q_1 \\cdot q_2 \\cdot q_3 = 0,9 \\cdot 0,8 \\cdot 0,75 = 1 - 0,54 = 0,46$$"
      ]
    },
    {
      "cell_type": "markdown",
      "metadata": {
        "id": "MlyB5LUioT4f"
      },
      "source": [
        "*г) Вероятность того, что в первый месяц выйдет из строя от одной до двух деталей:*"
      ]
    },
    {
      "cell_type": "markdown",
      "metadata": {
        "id": "ahqoU80uoQk3"
      },
      "source": [
        "$$P = 1 - q_1 \\cdot q_2 \\cdot q_3 - p_1 \\cdot p_2 \\cdot p_3 = 0,9 \\cdot 0,8 \\cdot 0,75 - 0,1 \\cdot 0,2 \\cdot 0,25 = 1 - 0,54 - 0,005 = 0,455$$"
      ]
    }
  ]
}