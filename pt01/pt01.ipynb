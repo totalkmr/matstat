{
  "nbformat": 4,
  "nbformat_minor": 0,
  "metadata": {
    "colab": {
      "name": "pt01.ipynb",
      "provenance": [],
      "collapsed_sections": []
    },
    "kernelspec": {
      "name": "python3",
      "display_name": "Python 3"
    }
  },
  "cells": [
    {
      "cell_type": "markdown",
      "metadata": {
        "id": "IvDWVly9BV4n"
      },
      "source": [
        "## Урок 1\r\n",
        "### Случайные события. Условная вероятность. Формула Байеса.  Независимые испытания"
      ]
    },
    {
      "cell_type": "markdown",
      "metadata": {
        "id": "LJurkeK8Bdhm"
      },
      "source": [
        "***1. Из колоды в 52 карты извлекаются случайным образом 4 карты.***\r\n",
        "\r\n",
        "***a) Найти вероятность того, что все карты – крести.***\r\n",
        "\r\n",
        "***б) Найти вероятность, что среди 4-х карт окажется хотя бы один туз.***"
      ]
    },
    {
      "cell_type": "markdown",
      "metadata": {
        "id": "98G5codtBbU8"
      },
      "source": [
        "а) **А** - все 4 карты имеют масть \"крести\"."
      ]
    },
    {
      "cell_type": "markdown",
      "metadata": {
        "id": "CT7k1SzUIm8d"
      },
      "source": [
        "Вероятность наступления события:"
      ]
    },
    {
      "cell_type": "markdown",
      "metadata": {
        "id": "zmyoHBwiCKkh"
      },
      "source": [
        "$$P(A) = \\frac{m}{n}$$"
      ]
    },
    {
      "cell_type": "markdown",
      "metadata": {
        "id": "_Iby4Hf0MYsj"
      },
      "source": [
        "Количество сочетаний определяется формулой:"
      ]
    },
    {
      "cell_type": "markdown",
      "metadata": {
        "id": "YpzvkZqEGk10"
      },
      "source": [
        "$$C_n^k = \\frac{n!}{k!(n - k)!}$$"
      ]
    },
    {
      "cell_type": "markdown",
      "metadata": {
        "id": "2GM7Yz7xIgzF"
      },
      "source": [
        "Функция для вычисления количества сочетаний:"
      ]
    },
    {
      "cell_type": "code",
      "metadata": {
        "id": "iFH05AQwKlNl"
      },
      "source": [
        "from math import factorial"
      ],
      "execution_count": 24,
      "outputs": []
    },
    {
      "cell_type": "code",
      "metadata": {
        "id": "XqmC5AY8I_Ie"
      },
      "source": [
        "def combinations(n, k):\n",
        "    return int(factorial(n) / (factorial(k) * factorial(n - k)))"
      ],
      "execution_count": 25,
      "outputs": []
    },
    {
      "cell_type": "markdown",
      "metadata": {
        "id": "W4ocBYgSJBD1"
      },
      "source": [
        "В колоде из 52 карт - 13 карт масти \"крести\"."
      ]
    },
    {
      "cell_type": "markdown",
      "metadata": {
        "id": "Efm-tBALJdyn"
      },
      "source": [
        "Количество благоприятствующих исходов (сочетания по 4 карты масти \"крести\"):"
      ]
    },
    {
      "cell_type": "markdown",
      "metadata": {
        "id": "UkesaripKGd-"
      },
      "source": [
        "$$m = C_{13}^4$$"
      ]
    },
    {
      "cell_type": "code",
      "metadata": {
        "colab": {
          "base_uri": "https://localhost:8080/"
        },
        "id": "Tp5iv0x8KsEG",
        "outputId": "2f020c3f-e9e5-4c3c-c3d6-f60a75025bda"
      },
      "source": [
        "m = combinations(13, 4)\r\n",
        "m"
      ],
      "execution_count": 26,
      "outputs": [
        {
          "output_type": "execute_result",
          "data": {
            "text/plain": [
              "715"
            ]
          },
          "metadata": {
            "tags": []
          },
          "execution_count": 26
        }
      ]
    },
    {
      "cell_type": "markdown",
      "metadata": {
        "id": "KKoOeR4nME-h"
      },
      "source": [
        "Общее количество исходов (сочетания по 4 карты из всей колоды):"
      ]
    },
    {
      "cell_type": "markdown",
      "metadata": {
        "id": "CAPlHl30Mo_l"
      },
      "source": [
        "$$n = C_{52}^4$$"
      ]
    },
    {
      "cell_type": "code",
      "metadata": {
        "colab": {
          "base_uri": "https://localhost:8080/"
        },
        "id": "zgAQg-BvLGeK",
        "outputId": "e2222d20-ceb8-4d05-ebb0-330f2182ba18"
      },
      "source": [
        "n = combinations(52, 4)\r\n",
        "n"
      ],
      "execution_count": 27,
      "outputs": [
        {
          "output_type": "execute_result",
          "data": {
            "text/plain": [
              "270725"
            ]
          },
          "metadata": {
            "tags": []
          },
          "execution_count": 27
        }
      ]
    },
    {
      "cell_type": "markdown",
      "metadata": {
        "id": "NmGeZSPdMNT9"
      },
      "source": [
        "Вероятность того, что все 4 карты окажутся масти \"крести\":"
      ]
    },
    {
      "cell_type": "markdown",
      "metadata": {
        "id": "4hoXFVuOLSpb"
      },
      "source": [
        "$$P(A) = \\frac{m}{n} = \\frac{715}{270725} = 0,002641$$"
      ]
    },
    {
      "cell_type": "markdown",
      "metadata": {
        "id": "KfOGyjWyI5w5"
      },
      "source": [
        "б) **B** - среди четырех карт есть хотя бы один туз."
      ]
    },
    {
      "cell_type": "markdown",
      "metadata": {
        "id": "HHr_ROlONQ9R"
      },
      "source": [
        "Число сочетаний, если среди четырех карт есть 1 туз: $$C_1 = C_4^1 * C_{48}^3 = 4 * 17296 = 69184$$"
      ]
    },
    {
      "cell_type": "code",
      "metadata": {
        "colab": {
          "base_uri": "https://localhost:8080/"
        },
        "id": "fDdHAJPFSRPl",
        "outputId": "a4c301cd-4666-4f19-ae99-d10a3d7ae637"
      },
      "source": [
        "c1 = combinations(4, 1) * combinations(48, 3)\r\n",
        "c1"
      ],
      "execution_count": 28,
      "outputs": [
        {
          "output_type": "execute_result",
          "data": {
            "text/plain": [
              "69184"
            ]
          },
          "metadata": {
            "tags": []
          },
          "execution_count": 28
        }
      ]
    },
    {
      "cell_type": "markdown",
      "metadata": {
        "id": "ThsTlI1vOMV0"
      },
      "source": [
        "Число сочетаний, если среди четырех карт есть 2 туза: $$C_2 = C_4^2 * C_{48}^2 = 6 * 1128 = 6768$$"
      ]
    },
    {
      "cell_type": "code",
      "metadata": {
        "colab": {
          "base_uri": "https://localhost:8080/"
        },
        "id": "Dcv227OzkOON",
        "outputId": "e257d9c1-4488-4b24-cd6b-95814745030f"
      },
      "source": [
        "c2 = combinations(4, 2) * combinations(48, 2)\r\n",
        "c2"
      ],
      "execution_count": 29,
      "outputs": [
        {
          "output_type": "execute_result",
          "data": {
            "text/plain": [
              "6768"
            ]
          },
          "metadata": {
            "tags": []
          },
          "execution_count": 29
        }
      ]
    },
    {
      "cell_type": "markdown",
      "metadata": {
        "id": "VwzfbmKUOOqb"
      },
      "source": [
        "Число сочетаний, если среди четырех карт есть 3 туза: $$C_3 = C_4^3 * C_{48}^1 = 4 * 48 = 192$$"
      ]
    },
    {
      "cell_type": "code",
      "metadata": {
        "colab": {
          "base_uri": "https://localhost:8080/"
        },
        "id": "PMVzjWhAkX5d",
        "outputId": "3a6dfe67-433b-4f9f-bc61-becfd4d47b92"
      },
      "source": [
        "c3 = combinations(4, 3) * combinations(48, 1)\r\n",
        "c3"
      ],
      "execution_count": 30,
      "outputs": [
        {
          "output_type": "execute_result",
          "data": {
            "text/plain": [
              "192"
            ]
          },
          "metadata": {
            "tags": []
          },
          "execution_count": 30
        }
      ]
    },
    {
      "cell_type": "markdown",
      "metadata": {
        "id": "TN8nUDfqO7Lt"
      },
      "source": [
        "Число сочетаний, если среди четырех карт есть 3 туза: $$C_4 = C_4^4 * C_{48}^0 = 1 * 1 = 1$$"
      ]
    },
    {
      "cell_type": "code",
      "metadata": {
        "colab": {
          "base_uri": "https://localhost:8080/"
        },
        "id": "G30fJOVpkeaP",
        "outputId": "33eadc91-fa5e-4409-c836-80aa8a020a7f"
      },
      "source": [
        "c4 = combinations(4, 4) * combinations(48, 0)\r\n",
        "c4"
      ],
      "execution_count": 31,
      "outputs": [
        {
          "output_type": "execute_result",
          "data": {
            "text/plain": [
              "1"
            ]
          },
          "metadata": {
            "tags": []
          },
          "execution_count": 31
        }
      ]
    },
    {
      "cell_type": "markdown",
      "metadata": {
        "id": "TUsd7oVQPH1x"
      },
      "source": [
        "Количество благоприятствующих исходов (число сочетаний, если среди четырех карт есть хотя бы один туз): $$m = C_1 + C_2 + C_3 + C_4 = 69184 + 6768 + 192 + 1 = 76145$$"
      ]
    },
    {
      "cell_type": "code",
      "metadata": {
        "colab": {
          "base_uri": "https://localhost:8080/"
        },
        "id": "GBsmXERcklYx",
        "outputId": "3d1b1a15-6970-4824-fa03-8dc40f36a920"
      },
      "source": [
        "m = c1 + c2 + c3 + c4\r\n",
        "m"
      ],
      "execution_count": 32,
      "outputs": [
        {
          "output_type": "execute_result",
          "data": {
            "text/plain": [
              "76145"
            ]
          },
          "metadata": {
            "tags": []
          },
          "execution_count": 32
        }
      ]
    },
    {
      "cell_type": "markdown",
      "metadata": {
        "id": "DqaC8Q4aVC1m"
      },
      "source": [
        "Общее количество возможных исходов (сочетания по 4 карты из всей колоды):"
      ]
    },
    {
      "cell_type": "markdown",
      "metadata": {
        "id": "jv3hBVlvVC1v"
      },
      "source": [
        "$$n = C_{52}^4$$"
      ]
    },
    {
      "cell_type": "code",
      "metadata": {
        "colab": {
          "base_uri": "https://localhost:8080/"
        },
        "id": "djf4MJOIVC1v",
        "outputId": "872f428d-ef1f-4f8f-d271-8aa50024cb5d"
      },
      "source": [
        "n = combinations(52, 4)\r\n",
        "n"
      ],
      "execution_count": 33,
      "outputs": [
        {
          "output_type": "execute_result",
          "data": {
            "text/plain": [
              "270725"
            ]
          },
          "metadata": {
            "tags": []
          },
          "execution_count": 33
        }
      ]
    },
    {
      "cell_type": "markdown",
      "metadata": {
        "id": "e0VixkioToJt"
      },
      "source": [
        "Вероятность того, что среди 4 карт есть хотя бы 1 туз:"
      ]
    },
    {
      "cell_type": "markdown",
      "metadata": {
        "id": "lu_ufU8KToJu"
      },
      "source": [
        "$$P(B) = \\frac{m}{n} = \\frac{76145}{270725} = 0,0028$$"
      ]
    },
    {
      "cell_type": "markdown",
      "metadata": {
        "id": "dLKsMv5LVVV-"
      },
      "source": [
        "***2. На входной двери подъезда установлен кодовый замок, содержащий десять кнопок с цифрами от 0 до 9. Код содержит три цифры, которые нужно нажать одновременно. Какова вероятность того, что человек, не знающий код, откроет дверь с первой попытки?***"
      ]
    },
    {
      "cell_type": "markdown",
      "metadata": {
        "id": "Vt2z91npVnDL"
      },
      "source": [
        "**А** - угадать 3 цифры кода из 3 с первой попытки"
      ]
    },
    {
      "cell_type": "markdown",
      "metadata": {
        "id": "5ZkY9ppJhy9P"
      },
      "source": [
        "Вероятность наступления события:"
      ]
    },
    {
      "cell_type": "markdown",
      "metadata": {
        "id": "53BmFml6WvmX"
      },
      "source": [
        "$$P(A) = \\frac{m}{n}$$"
      ]
    },
    {
      "cell_type": "markdown",
      "metadata": {
        "id": "M54DBlldW5bW"
      },
      "source": [
        "Количество благоприятствующих исходов (нажать 3 цифры из 3 правильных):"
      ]
    },
    {
      "cell_type": "markdown",
      "metadata": {
        "id": "ROBwJEpXW5bh"
      },
      "source": [
        "$$m = C_{3}^3 = 1$$"
      ]
    },
    {
      "cell_type": "code",
      "metadata": {
        "colab": {
          "base_uri": "https://localhost:8080/"
        },
        "id": "DOHVQ5UTXY2w",
        "outputId": "022c6bc4-74e1-4eed-8919-8bf8dc2c8149"
      },
      "source": [
        "m = combinations(3, 3)\r\n",
        "m"
      ],
      "execution_count": 34,
      "outputs": [
        {
          "output_type": "execute_result",
          "data": {
            "text/plain": [
              "1"
            ]
          },
          "metadata": {
            "tags": []
          },
          "execution_count": 34
        }
      ]
    },
    {
      "cell_type": "markdown",
      "metadata": {
        "id": "VTuy2WJJXz_v"
      },
      "source": [
        "Общее количество возможных исходов:"
      ]
    },
    {
      "cell_type": "markdown",
      "metadata": {
        "id": "c4WWBsMmXz_v"
      },
      "source": [
        "$$n = C_{10}^3 = 120$$"
      ]
    },
    {
      "cell_type": "code",
      "metadata": {
        "colab": {
          "base_uri": "https://localhost:8080/"
        },
        "id": "1PXqdjq8Xz_y",
        "outputId": "cfeb388c-c79e-4280-84d6-e0e52aeab5c2"
      },
      "source": [
        "m = combinations(10, 3)\r\n",
        "m"
      ],
      "execution_count": 35,
      "outputs": [
        {
          "output_type": "execute_result",
          "data": {
            "text/plain": [
              "120"
            ]
          },
          "metadata": {
            "tags": []
          },
          "execution_count": 35
        }
      ]
    },
    {
      "cell_type": "markdown",
      "metadata": {
        "id": "8cSQ2XSQYRe8"
      },
      "source": [
        "Вероятность открыть дверь с первой попытки:"
      ]
    },
    {
      "cell_type": "markdown",
      "metadata": {
        "id": "0GQmdiEWYRe9"
      },
      "source": [
        "$$P(A) = \\frac{m}{n} = \\frac{1}{120}$$"
      ]
    },
    {
      "cell_type": "markdown",
      "metadata": {
        "id": "FWJb2-f7Y20V"
      },
      "source": [
        "***3. В ящике имеется 15 деталей, из которых 9 окрашены. Рабочий случайным образом извлекает 3 детали. Какова вероятность того, что все извлеченные детали окрашены?***"
      ]
    },
    {
      "cell_type": "markdown",
      "metadata": {
        "id": "wxRt6VyqZDAf"
      },
      "source": [
        "**А** - все извлеченные детали окрашены."
      ]
    },
    {
      "cell_type": "markdown",
      "metadata": {
        "id": "RJVKIQvmhSvm"
      },
      "source": [
        "Вероятность наступления события:"
      ]
    },
    {
      "cell_type": "markdown",
      "metadata": {
        "id": "N8K98Wc3ZDAn"
      },
      "source": [
        "$$P(A) = \\frac{m}{n}$$"
      ]
    },
    {
      "cell_type": "markdown",
      "metadata": {
        "id": "gWv--1BYZSzK"
      },
      "source": [
        "Количество благоприятствующих исходов (сочетание по 3 детали из 9 окрашенных):"
      ]
    },
    {
      "cell_type": "markdown",
      "metadata": {
        "id": "R5_slzDOZTPD"
      },
      "source": [
        "$$m = C_{9}^3 = 84$$"
      ]
    },
    {
      "cell_type": "code",
      "metadata": {
        "colab": {
          "base_uri": "https://localhost:8080/"
        },
        "id": "OKOa7KJaZTPO",
        "outputId": "ad243457-7cf4-4e19-abe4-7533f9340999"
      },
      "source": [
        "m = combinations(9, 3)\r\n",
        "m"
      ],
      "execution_count": 36,
      "outputs": [
        {
          "output_type": "execute_result",
          "data": {
            "text/plain": [
              "84"
            ]
          },
          "metadata": {
            "tags": []
          },
          "execution_count": 36
        }
      ]
    },
    {
      "cell_type": "markdown",
      "metadata": {
        "id": "fDa4Yzk3ZTPP"
      },
      "source": [
        "Общее количество возможных исходов (сочетание по 3 детали из 15):"
      ]
    },
    {
      "cell_type": "markdown",
      "metadata": {
        "id": "dEc5MCamZTPP"
      },
      "source": [
        "$$n = C_{15}^3 = 455$$"
      ]
    },
    {
      "cell_type": "code",
      "metadata": {
        "colab": {
          "base_uri": "https://localhost:8080/"
        },
        "id": "i5BvZHg1ZTPP",
        "outputId": "8bb827d2-4815-4e7e-cb8b-4dff452e8ff2"
      },
      "source": [
        "m = combinations(15, 3)\r\n",
        "m"
      ],
      "execution_count": 37,
      "outputs": [
        {
          "output_type": "execute_result",
          "data": {
            "text/plain": [
              "455"
            ]
          },
          "metadata": {
            "tags": []
          },
          "execution_count": 37
        }
      ]
    },
    {
      "cell_type": "markdown",
      "metadata": {
        "id": "v0omANpeZTPP"
      },
      "source": [
        "Вероятность, что все извлеченные детали будут окрашены:"
      ]
    },
    {
      "cell_type": "markdown",
      "metadata": {
        "id": "wWMnIIgwZTPQ"
      },
      "source": [
        "$$P(A) = \\frac{m}{n} = \\frac{84}{455} = 0,1846$$"
      ]
    },
    {
      "cell_type": "markdown",
      "metadata": {
        "id": "K0HK9cGRaV0D"
      },
      "source": [
        "***4. В лотерее 100 билетов. Из них 2 выигрышных. Какова вероятность того, что 2 приобретенных билета окажутся выигрышными?***"
      ]
    },
    {
      "cell_type": "markdown",
      "metadata": {
        "id": "iSi6t-19aV0E"
      },
      "source": [
        "**А** - оба приобретенных билета окажутся выигрышными."
      ]
    },
    {
      "cell_type": "markdown",
      "metadata": {
        "id": "Ta7dkOrKcSsG"
      },
      "source": [
        "Вероятность наступления события:"
      ]
    },
    {
      "cell_type": "markdown",
      "metadata": {
        "id": "kBcrAD8WaV0E"
      },
      "source": [
        "$$P(A) = \\frac{m}{n}$$"
      ]
    },
    {
      "cell_type": "markdown",
      "metadata": {
        "id": "fyhG9AMuaV0F"
      },
      "source": [
        "Количество благоприятствующих исходов (2 приобретенных билета выигрышные):"
      ]
    },
    {
      "cell_type": "markdown",
      "metadata": {
        "id": "mrXDXOaXaV0F"
      },
      "source": [
        "$$m = C_{2}^2 = 1$$"
      ]
    },
    {
      "cell_type": "code",
      "metadata": {
        "colab": {
          "base_uri": "https://localhost:8080/"
        },
        "id": "UMmMIZyVaV0G",
        "outputId": "e0fb1dc6-e9fb-4c32-c5ab-3646dc7a3f18"
      },
      "source": [
        "m = combinations(2, 2)\r\n",
        "m"
      ],
      "execution_count": 38,
      "outputs": [
        {
          "output_type": "execute_result",
          "data": {
            "text/plain": [
              "1"
            ]
          },
          "metadata": {
            "tags": []
          },
          "execution_count": 38
        }
      ]
    },
    {
      "cell_type": "markdown",
      "metadata": {
        "id": "q8INItClaV0I"
      },
      "source": [
        "Общее количество возможных исходов (число комбинаций по 2 приобретенных билета из 100):"
      ]
    },
    {
      "cell_type": "markdown",
      "metadata": {
        "id": "x8VO74lFaV0J"
      },
      "source": [
        "$$n = C_{100}^2 = 4950$$"
      ]
    },
    {
      "cell_type": "code",
      "metadata": {
        "colab": {
          "base_uri": "https://localhost:8080/"
        },
        "id": "eYiY8RT-aV0J",
        "outputId": "a72bd03a-5e4b-434f-96cf-d7b7af4c7f48"
      },
      "source": [
        "m = combinations(100, 2)\r\n",
        "m"
      ],
      "execution_count": 39,
      "outputs": [
        {
          "output_type": "execute_result",
          "data": {
            "text/plain": [
              "4950"
            ]
          },
          "metadata": {
            "tags": []
          },
          "execution_count": 39
        }
      ]
    },
    {
      "cell_type": "markdown",
      "metadata": {
        "id": "DPHI_RLUaV0K"
      },
      "source": [
        "Вероятность, что оба приобретенных билета окажутся выигрышными:"
      ]
    },
    {
      "cell_type": "markdown",
      "metadata": {
        "id": "44TYdRhqaV0L"
      },
      "source": [
        "$$P(A) = \\frac{m}{n} = \\frac{1}{4950} = 2,02 * 10^{-4}$$"
      ]
    }
  ]
}