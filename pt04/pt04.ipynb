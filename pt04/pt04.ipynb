{
  "nbformat": 4,
  "nbformat_minor": 0,
  "metadata": {
    "colab": {
      "name": "pt04.ipynb",
      "provenance": [],
      "collapsed_sections": []
    },
    "kernelspec": {
      "name": "python3",
      "display_name": "Python 3"
    }
  },
  "cells": [
    {
      "cell_type": "markdown",
      "metadata": {
        "id": "CzpAMgw_-DKa"
      },
      "source": [
        "## Урок 4\r\n",
        "### Непрерывные случайные величины. \r\n",
        "\r\n",
        "### Функция распределения и плотность распределения вероятностей. \r\n",
        "\r\n",
        "### Равномерное и нормальное распределение. Центральная предельная теорема"
      ]
    },
    {
      "cell_type": "markdown",
      "metadata": {
        "id": "zc3tv778-mQC"
      },
      "source": [
        "***1. Случайная непрерывная величина A имеет равномерное распределение на промежутке (200, 800].\r\n",
        "Найдите ее среднее значение и дисперсию.***"
      ]
    },
    {
      "cell_type": "markdown",
      "metadata": {
        "id": "33P919A0i6VG"
      },
      "source": [
        "Математическое ожидание $M(X)$ равномерно распределенной непрерывной случайной величины можно вычислить по формуле:"
      ]
    },
    {
      "cell_type": "markdown",
      "metadata": {
        "id": "RAd-f2e-i6VH"
      },
      "source": [
        "$$M(X) = \\frac{a + b}{2} = \\frac{200 + 800}{2} = 500$$"
      ]
    },
    {
      "cell_type": "markdown",
      "metadata": {
        "id": "Fhn0ToAfi6VJ"
      },
      "source": [
        "По следующей формуле можно рассчитать дисперсию $D(X)$:"
      ]
    },
    {
      "cell_type": "markdown",
      "metadata": {
        "id": "zbBdqRj0i6VL"
      },
      "source": [
        "\n",
        "$$D(X) = \\frac{(b - a)^2}{12} = \\frac{(800 - 200)^2}{12} = 30000$$"
      ]
    },
    {
      "cell_type": "markdown",
      "metadata": {
        "id": "7zEDhAsTVPrd"
      },
      "source": [
        "\r\n",
        "\r\n",
        "---\r\n",
        "\r\n"
      ]
    },
    {
      "cell_type": "markdown",
      "metadata": {
        "id": "FJF6Br3y_9HV"
      },
      "source": [
        "***2. О случайной непрерывной равномерно распределенной величине B известно, что ее дисперсия равна 0.2.***\r\n",
        "\r\n",
        "***Можно ли найти правую границу величины B и ее среднее значение зная, что левая граница равна 0.5?***\r\n",
        "\r\n",
        "***Если да, найдите ее.***"
      ]
    },
    {
      "cell_type": "markdown",
      "metadata": {
        "id": "SvF3XecgAogu"
      },
      "source": [
        ""
      ]
    },
    {
      "cell_type": "markdown",
      "metadata": {
        "id": "QcubTKXOAo6q"
      },
      "source": [
        "\n",
        "$$D(X) = \\frac{(b - a)^2}{12}$$"
      ]
    },
    {
      "cell_type": "markdown",
      "metadata": {
        "id": "TYGwfqrpAuqH"
      },
      "source": [
        "$$b = \\sqrt{12D} + a = \\sqrt{12 \\cdot 0,2} + 0,5 = 2,05$$"
      ]
    },
    {
      "cell_type": "markdown",
      "metadata": {
        "id": "-Jbmm4UbAfBp"
      },
      "source": [
        "$$M(X) = \\frac{a + b}{2} = \\frac{0,5 + 2,05}{2} = 1,275$$"
      ]
    },
    {
      "cell_type": "markdown",
      "metadata": {
        "id": "gfb5SW47VOIL"
      },
      "source": [
        "\r\n",
        "\r\n",
        "---\r\n",
        "\r\n"
      ]
    },
    {
      "cell_type": "markdown",
      "metadata": {
        "id": "paxZpqcQB7ba"
      },
      "source": [
        "***3. Непрерывная случайная величина X распределена нормально и задана плотностью распределения\r\n",
        "f(x) = (1 / (4 * sqrt(2*pi))) * (exp(-(x+2)^2) / 32).***\r\n",
        "\r\n",
        "***Найдите:***\r\n",
        "\r\n",
        "***а) M(X)***\r\n",
        "\r\n",
        "***б) D(X)***\r\n",
        "\r\n",
        "***в) std(X) (среднее квадратичное отклонение)***"
      ]
    },
    {
      "cell_type": "markdown",
      "metadata": {
        "id": "TY1u7C7BCamx"
      },
      "source": [
        ""
      ]
    },
    {
      "cell_type": "markdown",
      "metadata": {
        "id": "jbWKmxOBi6VX"
      },
      "source": [
        "Нормальное распределение — это распределение вероятностей непрерывной случайной величины $X$, плотность вероятности которой подчиняется формуле:"
      ]
    },
    {
      "cell_type": "markdown",
      "metadata": {
        "id": "lqTqlCDai6VZ"
      },
      "source": [
        "$$f(x) = \\frac{1}{\\sigma \\sqrt{2 \\pi}} e ^ {- \\frac{(x - a)^2}{2 \\sigma^2}},$$"
      ]
    },
    {
      "cell_type": "markdown",
      "metadata": {
        "id": "gHiRniuYi6Vb"
      },
      "source": [
        "где $a = M(X), \\; \\sigma^2 = D(X).$"
      ]
    },
    {
      "cell_type": "markdown",
      "metadata": {
        "id": "Mnnuoj4YCvCp"
      },
      "source": [
        "Величина $X$ распределена нормально и задана плотностью распределения $$f(x) = \\frac{1}{4 \\sqrt{2 \\pi}} e ^ {- \\frac{(x + 2)^2}{32}}$$"
      ]
    },
    {
      "cell_type": "markdown",
      "metadata": {
        "id": "z19l_87SCwrc"
      },
      "source": [
        "Из формулы:"
      ]
    },
    {
      "cell_type": "markdown",
      "metadata": {
        "id": "o4IWaUuVE0hr"
      },
      "source": [
        "$M(X) = a = -2,$\r\n",
        "\r\n",
        "$\\sigma = 4,$\r\n",
        "\r\n",
        "$D(X) = \\sigma ^ 2 = 4 ^ 2 = 16.$\r\n",
        "\r\n"
      ]
    },
    {
      "cell_type": "markdown",
      "metadata": {
        "id": "IcJnMn1-VMWD"
      },
      "source": [
        "\r\n",
        "\r\n",
        "---\r\n",
        "\r\n"
      ]
    },
    {
      "cell_type": "markdown",
      "metadata": {
        "id": "dI1K_RD9FkkQ"
      },
      "source": [
        "***4. Рост взрослого населения города X имеет нормальное распределение.\r\n",
        "Причем, средний рост равен 174 см, а среднее квадратичное отклонение равно 8 см.***\r\n",
        "\r\n",
        "***Какова вероятность того, что случайным образом выбранный взрослый человек имеет рост:***\r\n",
        "\r\n",
        "***а) больше 182 см***\r\n",
        "\r\n",
        "***б) больше 190 см***\r\n",
        "\r\n",
        "***в) от 166 см до 190 см***\r\n",
        "\r\n",
        "***г) от 166 см до 182 см***\r\n",
        "\r\n",
        "***д) от 158 см до 190 см***\r\n",
        "\r\n",
        "***е) не выше 150 см или не ниже 190 см***\r\n",
        "\r\n",
        "***ё) не выше 150 см или не ниже 198 см***\r\n",
        "\r\n",
        "***ж) ниже 166 см***"
      ]
    },
    {
      "cell_type": "markdown",
      "metadata": {
        "id": "vHelU9UfGY65"
      },
      "source": [
        "Дано:\r\n",
        "\r\n",
        "$\\mu = 174,$\r\n",
        "\r\n",
        "$\\sigma = 8.$"
      ]
    },
    {
      "cell_type": "markdown",
      "metadata": {
        "id": "B0CI8nSdIENl"
      },
      "source": [
        "$$Z = \\frac{X - \\mu}{\\sigma}$$"
      ]
    },
    {
      "cell_type": "markdown",
      "metadata": {
        "id": "FC7cRmqUIX1F"
      },
      "source": [
        "***а) больше 182 см***"
      ]
    },
    {
      "cell_type": "markdown",
      "metadata": {
        "id": "OXRbPwyIIsZ-"
      },
      "source": [
        "$$Z = \\frac{X - \\mu}{\\sigma} = \\frac{182 - 174}{8} = 1$$"
      ]
    },
    {
      "cell_type": "markdown",
      "metadata": {
        "id": "mJ5ie7yCJHKC"
      },
      "source": [
        "Из Таблицы накопленного нормального распределения:"
      ]
    },
    {
      "cell_type": "markdown",
      "metadata": {
        "id": "x6RTFb0bJd4M"
      },
      "source": [
        "$P_{>182} = 1 - 0,8413 = 0,1587$"
      ]
    },
    {
      "cell_type": "markdown",
      "metadata": {
        "id": "6AfCycVYJyQa"
      },
      "source": [
        ""
      ]
    },
    {
      "cell_type": "markdown",
      "metadata": {
        "id": "cAkF-1yxJ1bQ"
      },
      "source": [
        "***б) больше 190 см***"
      ]
    },
    {
      "cell_type": "markdown",
      "metadata": {
        "id": "13hr0kSNJ1bh"
      },
      "source": [
        "$$Z = \\frac{X - \\mu}{\\sigma} = \\frac{190 - 174}{8} = 2$$"
      ]
    },
    {
      "cell_type": "markdown",
      "metadata": {
        "id": "OWks8N6TJ1bi"
      },
      "source": [
        "Из Таблицы накопленного нормального распределения:"
      ]
    },
    {
      "cell_type": "markdown",
      "metadata": {
        "id": "Tl6zj6ScJ1bi"
      },
      "source": [
        "$P_{>190} = 1 - 0,9772 = 0,0228$"
      ]
    },
    {
      "cell_type": "markdown",
      "metadata": {
        "id": "KfFcFwQ0KkD9"
      },
      "source": [
        "***в) от 166 см до 190 см***"
      ]
    },
    {
      "cell_type": "markdown",
      "metadata": {
        "id": "IZPKQwYaKkD9"
      },
      "source": [
        "$$Z_{<160} = \\frac{X - \\mu}{\\sigma} = \\frac{166 - 174}{8} = -1$$"
      ]
    },
    {
      "cell_type": "markdown",
      "metadata": {
        "id": "-cRRelECKkD-"
      },
      "source": [
        "Из Таблицы накопленного нормального распределения:"
      ]
    },
    {
      "cell_type": "markdown",
      "metadata": {
        "id": "ZQTidcNMKkD-"
      },
      "source": [
        "$P_{<166} = 0,1587$\r\n",
        "\r\n",
        "$P_{>190} = 1 - 0,9772 = 0,0228$\r\n",
        "\r\n",
        "$P_{166 - 190} = 1 - P_{>190} - P_{<160} = 1 - 0,0228 - 0,1587 = 0,8185$"
      ]
    },
    {
      "cell_type": "markdown",
      "metadata": {
        "id": "m-kLD2YVMDyL"
      },
      "source": [
        "***г) от 166 см до 182 см***"
      ]
    },
    {
      "cell_type": "markdown",
      "metadata": {
        "id": "KbKzEq8OMDyU"
      },
      "source": [
        "Из п. а) и в) и Таблицы накопленного нормального распределения:"
      ]
    },
    {
      "cell_type": "markdown",
      "metadata": {
        "id": "gNiAG3RyMDyU"
      },
      "source": [
        "$P_{<166} = 0,1587$\r\n",
        "\r\n",
        "$P_{>182} = 0,1587$\r\n",
        "\r\n",
        "$P_{166 - 182} = 1 - P_{>182} - P_{<166} = 1 - 2 \\cdot 0,1587 = 0,6826$"
      ]
    },
    {
      "cell_type": "markdown",
      "metadata": {
        "id": "c4Bm67lIOcGX"
      },
      "source": [
        "Этот же результат можно получить, используя Правило трех сигм."
      ]
    },
    {
      "cell_type": "markdown",
      "metadata": {
        "id": "s5bK33pYPBGk"
      },
      "source": [
        "***д) от 158 см до 190 см***"
      ]
    },
    {
      "cell_type": "markdown",
      "metadata": {
        "id": "d2ocNWpJPrCh"
      },
      "source": [
        "$$Z_{<158} = \\frac{X - \\mu}{\\sigma} = \\frac{158 - 174}{8} = -2$$"
      ]
    },
    {
      "cell_type": "markdown",
      "metadata": {
        "id": "UwcliC-sQWli"
      },
      "source": [
        "Из п. б) и Таблицы накопленного нормального распределения:"
      ]
    },
    {
      "cell_type": "markdown",
      "metadata": {
        "id": "Oud7c6GkPBGl"
      },
      "source": [
        "$P_{<158} = 0,0228$\r\n",
        "\r\n",
        "$P_{>190} = 0,0228$\r\n",
        "\r\n",
        "$P_{158 - 190} = 1 - P_{>190} - P_{<158} = 1 - 2 \\cdot 0,0228 = 0,9544$"
      ]
    },
    {
      "cell_type": "markdown",
      "metadata": {
        "id": "Vs--CovjPBGl"
      },
      "source": [
        "Этот же результат можно получить, используя Правило трех сигм."
      ]
    },
    {
      "cell_type": "markdown",
      "metadata": {
        "id": "PaYfN06nQqfh"
      },
      "source": [
        "***е) не выше 150 см или не ниже 190 см***"
      ]
    },
    {
      "cell_type": "markdown",
      "metadata": {
        "id": "wRHMbu-zRGP7"
      },
      "source": [
        "$$Z_{<150} = \\frac{X - \\mu}{\\sigma} = \\frac{150 - 174}{8} = -3$$"
      ]
    },
    {
      "cell_type": "markdown",
      "metadata": {
        "id": "62R4h_WcRPqN"
      },
      "source": [
        "$P_{<150} = 0,0014$\r\n",
        "\r\n",
        "$P_{>190} = 0,0228$\r\n",
        "\r\n",
        "$P_{<150 || >190} = P_{<150} + P_{>190} = 0,0014 + 0,0228 = 0,0242$"
      ]
    },
    {
      "cell_type": "markdown",
      "metadata": {
        "id": "uNX5_jfTR7oe"
      },
      "source": [
        "***ё) не выше 150 см или не ниже 198 см***"
      ]
    },
    {
      "cell_type": "markdown",
      "metadata": {
        "id": "d9RVlHTCR7oe"
      },
      "source": [
        "$$Z_{>198} = \\frac{X - \\mu}{\\sigma} = \\frac{198 - 174}{8} = 3$$"
      ]
    },
    {
      "cell_type": "markdown",
      "metadata": {
        "id": "JKLPz714R7of"
      },
      "source": [
        "$P_{<150} = 0,0014$\r\n",
        "\r\n",
        "$P_{>198} = 0,0014$\r\n",
        "\r\n",
        "$P_{<150 || >198} = P_{<150} + P_{>198} = 0,0014 + 0,0014 = 0,0028$"
      ]
    },
    {
      "cell_type": "markdown",
      "metadata": {
        "id": "24S6f8V3TKtU"
      },
      "source": [
        "Этот же результат можно получить, используя Правило трех сигм."
      ]
    },
    {
      "cell_type": "markdown",
      "metadata": {
        "id": "j-bENKUJTOi0"
      },
      "source": [
        "***ж) ниже 166 см***"
      ]
    },
    {
      "cell_type": "markdown",
      "metadata": {
        "id": "JC9dqUYjTeXy"
      },
      "source": [
        "Из п. в) и Таблицы накопленного нормального распределения:"
      ]
    },
    {
      "cell_type": "markdown",
      "metadata": {
        "id": "9s8GOzJbTOi1"
      },
      "source": [
        "$P_{<166} = 0,1587$"
      ]
    },
    {
      "cell_type": "markdown",
      "metadata": {
        "id": "9eKfagikVItw"
      },
      "source": [
        "\r\n",
        "\r\n",
        "---\r\n",
        "\r\n"
      ]
    },
    {
      "cell_type": "markdown",
      "metadata": {
        "id": "x1tYJIXTTn2F"
      },
      "source": [
        "***5. На сколько сигм (средних квадратичных отклонений) отклоняется рост человека, равный 190 см, от математического ожидания роста в популяции, в которой M(X) = 178 см и D(X) = 25 кв.см?***"
      ]
    },
    {
      "cell_type": "markdown",
      "metadata": {
        "id": "plonewffUJJK"
      },
      "source": [
        "Дано:\r\n",
        "\r\n",
        "$X = 190,$\r\n",
        "\r\n",
        "$\\mu = 178,$\r\n",
        "\r\n",
        "$D(X) = 25.$"
      ]
    },
    {
      "cell_type": "markdown",
      "metadata": {
        "id": "m63edF4lUJJV"
      },
      "source": [
        "$$Z = \\frac{X - \\mu}{\\sigma} = \\frac{190 - 178}{\\sqrt{D(X)}} = \\frac{12}{5} = 2,4$$"
      ]
    }
  ]
}